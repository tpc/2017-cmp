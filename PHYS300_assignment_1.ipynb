{
 "cells": [
  {
   "cell_type": "code",
   "execution_count": 24,
   "metadata": {},
   "outputs": [
    {
     "name": "stdout",
     "output_type": "stream",
     "text": [
      "for the love of Physics! 0 Science and Technology\n",
      "for the love of Physics! 1 Science and Technology\n",
      "for the love of Physics! 2 Science and Technology\n",
      "for the love of Physics! 3 Science and Technology\n",
      "for the love of Physics! 4 Science and Technology\n",
      "for the love of Physics! 5 Science and Technology\n",
      "for the love of Physics! 6 Science and Technology\n",
      "for the love of Physics! 7 Science and Technology\n"
     ]
    }
   ],
   "source": [
    "i = 0\n",
    "while True:\n",
    "    print(\"for the love of Physics!\", i, \"Science and Technology\")\n",
    "    i += 1\n",
    "    if i == 8:\n",
    "        break\n",
    "        "
   ]
  },
  {
   "cell_type": "code",
   "execution_count": 4,
   "metadata": {},
   "outputs": [
    {
     "name": "stdout",
     "output_type": "stream",
     "text": [
      "series for m =  1\n",
      "n = 6 m = 1 -59.496264956699946 nm\n",
      "series for m =  2\n",
      "n = 7 m = 2 -56.60698865260927 nm\n",
      "series for m =  3\n",
      "n = 8 m = 3 -69.41498592418341 nm\n"
     ]
    }
   ],
   "source": [
    "R = 1.097e-2\n",
    "for m in [1, 2, 3]:\n",
    "    print (\"series for m = \", m)\n",
    "    for k in [1, 2, 3, 4, 5]:\n",
    "        n = m + k\n",
    "        invlambda = R * (1.0/m**2) - (1.0/n**2)\n",
    "    print(\"n =\", n, \"m =\", m, 1/invlambda, \"nm\")"
   ]
  },
  {
   "cell_type": "code",
   "execution_count": 11,
   "metadata": {},
   "outputs": [
    {
     "name": "stdout",
     "output_type": "stream",
     "text": [
      "type a positive integer value for m: 6\n",
      "type positive integer value greater than m for n: 3\n",
      "n must be greater than  6 ,  please enter another number:\n",
      "type positive integer value greater than m for n: 8\n",
      "m = 6 n = 8 wavelength is 7500.976689673134 nm\n"
     ]
    }
   ],
   "source": [
    "R = 1.097e-2\n",
    "\n",
    "def calc_lambda(m, n):\n",
    "    return 1 / (R * (1.0/m**2 - 1.0/n**2))\n",
    "\n",
    "good_m = False\n",
    "while good_m is False:\n",
    "    m=int(input(\"type a positive integer value for m: \"))\n",
    "    if m <= 0:\n",
    "        print(\"m must be positive integer, please enter another number:\")\n",
    "    else:\n",
    "        good_m = True\n",
    "\n",
    "good_n = False\n",
    "while good_n is False:        \n",
    "    n=int(input(\"type positive integer value greater than m for n: \"))\n",
    "    if n<=m:\n",
    "        print(\"n must be greater than \", m, \",  please enter another number:\")\n",
    "    else:\n",
    "        good_n = True\n",
    "\n",
    "lambda_w = calc_lambda(m, n)\n",
    "print(\"m =\", m, \"n =\", n, \"wavelength is\", lambda_w, \"nm\")"
   ]
  },
  {
   "cell_type": "code",
   "execution_count": 13,
   "metadata": {},
   "outputs": [
    {
     "name": "stdout",
     "output_type": "stream",
     "text": [
      "[]\n",
      "[1]\n",
      "[1, 1, 2]\n",
      "[1, 1, 2, 3, 5]\n"
     ]
    }
   ],
   "source": [
    "def Fibonacci(N):\n",
    "    Fib_series = []\n",
    "    for i in range(1, N + 1):\n",
    "        if len(Fib_series)<=1:\n",
    "            Fib_series.append(1)\n",
    "        else:\n",
    "            Fib_series.append(Fib_series[-1] + Fib_series[-2])\n",
    "    return Fib_series\n",
    "\n",
    "print(Fibonacci(0))\n",
    "print(Fibonacci(1))\n",
    "print(Fibonacci(3))\n",
    "print(Fibonacci(5))"
   ]
  },
  {
   "cell_type": "code",
   "execution_count": 15,
   "metadata": {},
   "outputs": [
    {
     "data": {
      "text/plain": [
       "1.0"
      ]
     },
     "execution_count": 15,
     "metadata": {},
     "output_type": "execute_result"
    }
   ],
   "source": [
    "a_lambda = lambda x: 1/(x**2)\n",
    "a_lambda(1)"
   ]
  },
  {
   "cell_type": "code",
   "execution_count": 19,
   "metadata": {},
   "outputs": [
    {
     "name": "stdout",
     "output_type": "stream",
     "text": [
      "type a value for N: 3\n",
      "when n= 0 ;  the multiplicity is 1.0\n",
      "when n= 1 ;  the multiplicity is 3.0\n",
      "when n= 2 ;  the multiplicity is 3.0\n",
      "when n= 3 ;  the multiplicity is 1.0\n"
     ]
    }
   ],
   "source": [
    "#Multiplicity calculation\n",
    "def factor(N):\n",
    "    if N == 0 or N == 1:\n",
    "        return 1\n",
    "    else: \n",
    "        total = 1\n",
    "        for i in range(2,N+1):\n",
    "            total *= i\n",
    "        return total     \n",
    "\n",
    "def Multiplicity(N,n):\n",
    "    return factor(N)/(factor(n) * factor(N-n))\n",
    "    \n",
    "N=int(input(\"type a value for N: \"))\n",
    "    \n",
    "    \n",
    "for n in range(N+1):\n",
    "    print('when n=', n, ';  the multiplicity is',  Multiplicity(N,n))"
   ]
  },
  {
   "cell_type": "code",
   "execution_count": 23,
   "metadata": {},
   "outputs": [
    {
     "name": "stdout",
     "output_type": "stream",
     "text": [
      "type a value for N: 2\n",
      "when q = 0 ;  the multiplicity is 1.0\n",
      "when q = 1 ;  the multiplicity is 2.0\n",
      "when q = 2 ;  the multiplicity is 3.0\n"
     ]
    }
   ],
   "source": [
    "#Multiplicity calculation\n",
    "def factor(N):\n",
    "    if N == 0 or N == 1:\n",
    "        return 1\n",
    "    else: \n",
    "        total = 1\n",
    "        for i in range(2,N+1):\n",
    "            total *= i\n",
    "        return total     \n",
    "\n",
    "def Einstein_Model_of_a_Solid_Multiplicity(N, q):\n",
    "    return factor(q + N - 1)/(factor(q) * factor(N-1))\n",
    "\n",
    "N=int(input(\"type a value for N: \"))\n",
    "    \n",
    "for q in range(N+1):\n",
    "    print('when q =', q, ';  the multiplicity is',  Einstein_Model_of_a_Solid_Multiplicity(N, q))\n",
    "    "
   ]
  },
  {
   "cell_type": "code",
   "execution_count": null,
   "metadata": {},
   "outputs": [],
   "source": []
  },
  {
   "cell_type": "code",
   "execution_count": null,
   "metadata": {},
   "outputs": [],
   "source": []
  }
 ],
 "metadata": {
  "kernelspec": {
   "display_name": "Python 3",
   "language": "python",
   "name": "python3"
  },
  "language_info": {
   "codemirror_mode": {
    "name": "ipython",
    "version": 3
   },
   "file_extension": ".py",
   "mimetype": "text/x-python",
   "name": "python",
   "nbconvert_exporter": "python",
   "pygments_lexer": "ipython3",
   "version": "3.7.0"
  }
 },
 "nbformat": 4,
 "nbformat_minor": 2
}
