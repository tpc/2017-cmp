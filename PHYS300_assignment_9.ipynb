{
 "cells": [
  {
   "cell_type": "code",
   "execution_count": 2,
   "metadata": {},
   "outputs": [
    {
     "data": {
      "image/png": "[encoded data removed]",
      "text/plain": [
       "<Figure size 432x288 with 1 Axes>"
      ]
     },
     "metadata": {
      "needs_background": "light"
     },
     "output_type": "display_data"
    },
    {
     "name": "stdout",
     "output_type": "stream",
     "text": [
      "minimum value:    -0.999955009866677\n"
     ]
    }
   ],
   "source": [
    "import numpy as np\n",
    "import matplotlib.pyplot as plt\n",
    "\n",
    "def LJ(r):\n",
    "    r6 = r**6\n",
    "    r12 = r6*r6\n",
    "    return 4*(1/r12 - 1/r6)\n",
    "\n",
    "r = np.linspace(1.0,3.0,100)\n",
    "plt.plot(r, LJ(r))\n",
    "plt.show()\n",
    "\n",
    "print('minimum value:   ', min(LJ(r)))"
   ]
  },
  {
   "cell_type": "code",
   "execution_count": 49,
   "metadata": {},
   "outputs": [
    {
     "name": "stdout",
     "output_type": "stream",
     "text": [
      "total energy is:  -0.003768446603922468\n"
     ]
    }
   ],
   "source": [
    "import scipy.spatial.distance as sd\n",
    "import numpy as np\n",
    "\n",
    "def potential(r):\n",
    "       U = 4.*(np.power(r,-12) - np.power(r,-6))\n",
    "       return U\n",
    "\n",
    "def LJ(r):\n",
    "    r6 = r**6\n",
    "    r12 = r6*r6\n",
    "    return 4*(1/r12 - 1/r6)\n",
    "\n",
    "def total_energy(positions):\n",
    "    \"\"\"\n",
    "    Calculate the total energy\n",
    "    input:\n",
    "    positions: 3*N array which represents the atomic positions\n",
    "    output\n",
    "    E: the total energy\n",
    "    \"\"\"\n",
    "    E = 0\n",
    "    N_atom = int(len(positions)/3)\n",
    "\n",
    "    #positions = [x0, y0, z0, x1, y1, z1, .....  , xn, yn, zn]\n",
    "    for i in range(N_atom-1):\n",
    "        for j in range(i+1, N_atom):\n",
    "            pos1 = positions[i*3:(i+1)*3]\n",
    "            pos2 = positions[j*3:(j+1)*3]\n",
    "            #print('pos1:  ', pos1)\n",
    "            #print('pos2:  ', pos2)\n",
    "            dist = np.linalg.norm(pos1-pos2)\n",
    "            #print(i,j, dist)\n",
    "            E += LJ(dist)\n",
    "    return E\n",
    "\n",
    "def scipy_LJ(arr, sigma=None):\n",
    "    \"\"\"\n",
    "    Computes the Lennard-Jones potential for an array (M x N) of M points\n",
    "    in N dimensional space. Usage of a sigma parameter is optional.\n",
    "    \"\"\"\n",
    "\n",
    "    if len(arr.shape)==1:\n",
    "        arr = arr[:,None]\n",
    "\n",
    "    r = sd.pdist(arr)\n",
    "\n",
    "    if sigma==None:\n",
    "        np.power(r, -6, out=r)\n",
    "        return np.sum(r**2 - r)*4\n",
    "\n",
    "    else:\n",
    "       r *= sigma\n",
    "       np.power(r, -6, out=r)\n",
    "       return np.sum(r**2 - r)*4\n",
    "\n",
    "#points = np.random.rand(N,3)+0.1\n",
    "\n",
    "def init_pos(N, L=5):\n",
    "    return L*np.random.random_sample((N*3,))\n",
    "pos = init_pos(2)\n",
    "print(\"total energy is: \", total_energy(pos))\n",
    "#print(\"scipy LJ is: \", scipy_LJ(points, 1))"
   ]
  },
  {
   "cell_type": "code",
   "execution_count": null,
   "metadata": {},
   "outputs": [],
   "source": []
  },
  {
   "cell_type": "code",
   "execution_count": null,
   "metadata": {},
   "outputs": [],
   "source": []
  }
 ],
 "metadata": {
  "kernelspec": {
   "display_name": "Python 3",
   "language": "python",
   "name": "python3"
  }
 },
 "nbformat": 4,
 "nbformat_minor": 2
}
